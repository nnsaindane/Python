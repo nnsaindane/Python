{
 "cells": [
  {
   "cell_type": "code",
   "execution_count": 4,
   "id": "4dadfa59",
   "metadata": {},
   "outputs": [
    {
     "name": "stdout",
     "output_type": "stream",
     "text": [
      "4.5\n"
     ]
    },
    {
     "ename": "ValueError",
     "evalue": "invalid literal for int() with base 10: '4.5'",
     "output_type": "error",
     "traceback": [
      "\u001b[1;31m---------------------------------------------------------------------------\u001b[0m",
      "\u001b[1;31mValueError\u001b[0m                                Traceback (most recent call last)",
      "Cell \u001b[1;32mIn[4], line 1\u001b[0m\n\u001b[1;32m----> 1\u001b[0m \u001b[38;5;28mint\u001b[39m(\u001b[38;5;28minput\u001b[39m())\n",
      "\u001b[1;31mValueError\u001b[0m: invalid literal for int() with base 10: '4.5'"
     ]
    }
   ],
   "source": [
    "int(input())"
   ]
  },
  {
   "cell_type": "code",
   "execution_count": 5,
   "id": "c1f864f2",
   "metadata": {},
   "outputs": [
    {
     "name": "stdout",
     "output_type": "stream",
     "text": [
      "4\n"
     ]
    },
    {
     "data": {
      "text/plain": [
       "4.0"
      ]
     },
     "execution_count": 5,
     "metadata": {},
     "output_type": "execute_result"
    }
   ],
   "source": [
    "float(input())"
   ]
  },
  {
   "cell_type": "code",
   "execution_count": 7,
   "id": "06c6eaa7",
   "metadata": {},
   "outputs": [
    {
     "name": "stdout",
     "output_type": "stream",
     "text": [
      "76576484554875796\n"
     ]
    },
    {
     "data": {
      "text/plain": [
       "76576484554875796"
      ]
     },
     "execution_count": 7,
     "metadata": {},
     "output_type": "execute_result"
    }
   ],
   "source": [
    "int(input())"
   ]
  },
  {
   "cell_type": "code",
   "execution_count": 8,
   "id": "009d3010",
   "metadata": {},
   "outputs": [
    {
     "name": "stdout",
     "output_type": "stream",
     "text": [
      "4+4\n"
     ]
    },
    {
     "data": {
      "text/plain": [
       "8"
      ]
     },
     "execution_count": 8,
     "metadata": {},
     "output_type": "execute_result"
    }
   ],
   "source": [
    "eval(input())"
   ]
  },
  {
   "cell_type": "markdown",
   "id": "e4bd7a05",
   "metadata": {},
   "source": [
    "### concatination"
   ]
  },
  {
   "cell_type": "code",
   "execution_count": 9,
   "id": "c7e64764",
   "metadata": {},
   "outputs": [
    {
     "data": {
      "text/plain": [
       "8"
      ]
     },
     "execution_count": 9,
     "metadata": {},
     "output_type": "execute_result"
    }
   ],
   "source": [
    "4+4"
   ]
  },
  {
   "cell_type": "code",
   "execution_count": 13,
   "id": "b6bfc93d",
   "metadata": {},
   "outputs": [
    {
     "data": {
      "text/plain": [
       "'44'"
      ]
     },
     "execution_count": 13,
     "metadata": {},
     "output_type": "execute_result"
    }
   ],
   "source": [
    "\"4\"+\"4\""
   ]
  },
  {
   "cell_type": "code",
   "execution_count": 14,
   "id": "611d09c0",
   "metadata": {},
   "outputs": [
    {
     "data": {
      "text/plain": [
       "'444'"
      ]
     },
     "execution_count": 14,
     "metadata": {},
     "output_type": "execute_result"
    }
   ],
   "source": [
    "\"4\"*3"
   ]
  },
  {
   "cell_type": "code",
   "execution_count": 15,
   "id": "a8f073d2",
   "metadata": {},
   "outputs": [
    {
     "data": {
      "text/plain": [
       "12"
      ]
     },
     "execution_count": 15,
     "metadata": {},
     "output_type": "execute_result"
    }
   ],
   "source": [
    "4*3"
   ]
  },
  {
   "cell_type": "code",
   "execution_count": 17,
   "id": "5a3ebaf7",
   "metadata": {},
   "outputs": [
    {
     "ename": "TypeError",
     "evalue": "unsupported operand type(s) for /: 'str' and 'str'",
     "output_type": "error",
     "traceback": [
      "\u001b[1;31m---------------------------------------------------------------------------\u001b[0m",
      "\u001b[1;31mTypeError\u001b[0m                                 Traceback (most recent call last)",
      "Cell \u001b[1;32mIn[17], line 1\u001b[0m\n\u001b[1;32m----> 1\u001b[0m \u001b[38;5;124m\"\u001b[39m\u001b[38;5;124m44\u001b[39m\u001b[38;5;124m\"\u001b[39m\u001b[38;5;241m/\u001b[39m\u001b[38;5;124m\"\u001b[39m\u001b[38;5;124m4\u001b[39m\u001b[38;5;124m\"\u001b[39m\n",
      "\u001b[1;31mTypeError\u001b[0m: unsupported operand type(s) for /: 'str' and 'str'"
     ]
    }
   ],
   "source": [
    "\"44\"/\"4\""
   ]
  },
  {
   "cell_type": "code",
   "execution_count": 18,
   "id": "1736855f",
   "metadata": {},
   "outputs": [
    {
     "data": {
      "text/plain": [
       "'this is my first line'"
      ]
     },
     "execution_count": 18,
     "metadata": {},
     "output_type": "execute_result"
    }
   ],
   "source": [
    "\"this is my first line\""
   ]
  },
  {
   "cell_type": "code",
   "execution_count": 23,
   "id": "e6af0ef0",
   "metadata": {},
   "outputs": [],
   "source": [
    "var2= \"\"\"this is my first line \n",
    "this is my second line\n",
    "this is my third line\n",
    "this is my fourth line \"\"\""
   ]
  },
  {
   "cell_type": "code",
   "execution_count": 24,
   "id": "7da53844",
   "metadata": {},
   "outputs": [
    {
     "data": {
      "text/plain": [
       "'this is my first line \\nthis is my second line\\nthis is my third line\\nthis is my fourth line '"
      ]
     },
     "execution_count": 24,
     "metadata": {},
     "output_type": "execute_result"
    }
   ],
   "source": [
    "var2"
   ]
  },
  {
   "cell_type": "code",
   "execution_count": 25,
   "id": "a54afd10",
   "metadata": {},
   "outputs": [],
   "source": [
    "var1 = \"\"\"this is my first line this is my second line this is my third line this is my fourth line \"\"\""
   ]
  },
  {
   "cell_type": "code",
   "execution_count": 27,
   "id": "3033b5a2",
   "metadata": {},
   "outputs": [
    {
     "data": {
      "text/plain": [
       "str"
      ]
     },
     "execution_count": 27,
     "metadata": {},
     "output_type": "execute_result"
    }
   ],
   "source": [
    "type(var1)"
   ]
  },
  {
   "cell_type": "code",
   "execution_count": 3,
   "id": "71035eec",
   "metadata": {},
   "outputs": [],
   "source": [
    "import math"
   ]
  },
  {
   "cell_type": "code",
   "execution_count": 12,
   "id": "92a6fcd8",
   "metadata": {},
   "outputs": [
    {
     "data": {
      "text/plain": [
       "-4.0"
      ]
     },
     "execution_count": 12,
     "metadata": {},
     "output_type": "execute_result"
    }
   ],
   "source": [
    "math.remainder(12,8)"
   ]
  },
  {
   "cell_type": "code",
   "execution_count": 13,
   "id": "064b54d4",
   "metadata": {},
   "outputs": [
    {
     "data": {
      "text/plain": [
       "3.141592653589793"
      ]
     },
     "execution_count": 13,
     "metadata": {},
     "output_type": "execute_result"
    }
   ],
   "source": [
    "math.pi"
   ]
  },
  {
   "cell_type": "code",
   "execution_count": 41,
   "id": "2eb06281",
   "metadata": {},
   "outputs": [
    {
     "data": {
      "text/plain": [
       "1.791759469228055"
      ]
     },
     "execution_count": 41,
     "metadata": {},
     "output_type": "execute_result"
    }
   ],
   "source": [
    "math.log(6)"
   ]
  },
  {
   "cell_type": "code",
   "execution_count": 43,
   "id": "b79c9177",
   "metadata": {},
   "outputs": [
    {
     "data": {
      "text/plain": [
       "65.06919393998976"
      ]
     },
     "execution_count": 43,
     "metadata": {},
     "output_type": "execute_result"
    }
   ],
   "source": [
    "math.sqrt(4234)"
   ]
  },
  {
   "cell_type": "code",
   "execution_count": 44,
   "id": "5e3aa89c",
   "metadata": {},
   "outputs": [
    {
     "data": {
      "text/plain": [
       "24"
      ]
     },
     "execution_count": 44,
     "metadata": {},
     "output_type": "execute_result"
    }
   ],
   "source": [
    "math.factorial(4)"
   ]
  },
  {
   "cell_type": "code",
   "execution_count": 45,
   "id": "d206bb90",
   "metadata": {},
   "outputs": [
    {
     "data": {
      "text/plain": [
       "0.5253219888177297"
      ]
     },
     "execution_count": 45,
     "metadata": {},
     "output_type": "execute_result"
    }
   ],
   "source": [
    "math.cos(45)"
   ]
  },
  {
   "cell_type": "markdown",
   "id": "9e0db8fe",
   "metadata": {},
   "source": [
    "## Indexing"
   ]
  },
  {
   "cell_type": "code",
   "execution_count": 17,
   "id": "41c83acd",
   "metadata": {},
   "outputs": [],
   "source": [
    "var11 = \"this is my first code\""
   ]
  },
  {
   "cell_type": "code",
   "execution_count": 19,
   "id": "941262cb",
   "metadata": {},
   "outputs": [
    {
     "data": {
      "text/plain": [
       "'i'"
      ]
     },
     "execution_count": 19,
     "metadata": {},
     "output_type": "execute_result"
    }
   ],
   "source": [
    "var11[5]"
   ]
  },
  {
   "cell_type": "code",
   "execution_count": 20,
   "id": "9ed39bcc",
   "metadata": {},
   "outputs": [
    {
     "data": {
      "text/plain": [
       "'h'"
      ]
     },
     "execution_count": 20,
     "metadata": {},
     "output_type": "execute_result"
    }
   ],
   "source": [
    "var11[1]"
   ]
  },
  {
   "cell_type": "code",
   "execution_count": 52,
   "id": "3c94e39f",
   "metadata": {},
   "outputs": [
    {
     "data": {
      "text/plain": [
       "' '"
      ]
     },
     "execution_count": 52,
     "metadata": {},
     "output_type": "execute_result"
    }
   ],
   "source": [
    "var11[10]"
   ]
  },
  {
   "cell_type": "code",
   "execution_count": 22,
   "id": "df7fd051",
   "metadata": {},
   "outputs": [
    {
     "data": {
      "text/plain": [
       "'o'"
      ]
     },
     "execution_count": 22,
     "metadata": {},
     "output_type": "execute_result"
    }
   ],
   "source": [
    "var11[18]"
   ]
  },
  {
   "cell_type": "code",
   "execution_count": 28,
   "id": "b5ef33ef",
   "metadata": {},
   "outputs": [
    {
     "data": {
      "text/plain": [
       "'s'"
      ]
     },
     "execution_count": 28,
     "metadata": {},
     "output_type": "execute_result"
    }
   ],
   "source": [
    "var11[-15]"
   ]
  },
  {
   "cell_type": "code",
   "execution_count": 24,
   "id": "dd223923",
   "metadata": {},
   "outputs": [
    {
     "data": {
      "text/plain": [
       "'this is my first code'"
      ]
     },
     "execution_count": 24,
     "metadata": {},
     "output_type": "execute_result"
    }
   ],
   "source": [
    "var11"
   ]
  },
  {
   "cell_type": "code",
   "execution_count": null,
   "id": "b1bd8b9c",
   "metadata": {},
   "outputs": [],
   "source": [
    "-3 -2 -1 0 1 2 3 "
   ]
  },
  {
   "cell_type": "markdown",
   "id": "52a5785c",
   "metadata": {},
   "source": [
    "## Slicing"
   ]
  },
  {
   "cell_type": "code",
   "execution_count": 31,
   "id": "2fddfd01",
   "metadata": {},
   "outputs": [
    {
     "data": {
      "text/plain": [
       "'s is my first code'"
      ]
     },
     "execution_count": 31,
     "metadata": {},
     "output_type": "execute_result"
    }
   ],
   "source": [
    "var11[3:]"
   ]
  },
  {
   "cell_type": "code",
   "execution_count": 32,
   "id": "55245244",
   "metadata": {},
   "outputs": [
    {
     "data": {
      "text/plain": [
       "'this is '"
      ]
     },
     "execution_count": 32,
     "metadata": {},
     "output_type": "execute_result"
    }
   ],
   "source": [
    "var11[:8]"
   ]
  },
  {
   "cell_type": "code",
   "execution_count": 33,
   "id": "9df9ad4f",
   "metadata": {},
   "outputs": [
    {
     "data": {
      "text/plain": [
       "'is is my f'"
      ]
     },
     "execution_count": 33,
     "metadata": {},
     "output_type": "execute_result"
    }
   ],
   "source": [
    "var11[2:12]"
   ]
  },
  {
   "cell_type": "code",
   "execution_count": 34,
   "id": "da9c4e6b",
   "metadata": {},
   "outputs": [
    {
     "data": {
      "text/plain": [
       "'irst c'"
      ]
     },
     "execution_count": 34,
     "metadata": {},
     "output_type": "execute_result"
    }
   ],
   "source": [
    "var11[12:18]"
   ]
  },
  {
   "cell_type": "code",
   "execution_count": 35,
   "id": "da55a5db",
   "metadata": {},
   "outputs": [
    {
     "data": {
      "text/plain": [
       "'hsi yfrtc'"
      ]
     },
     "execution_count": 35,
     "metadata": {},
     "output_type": "execute_result"
    }
   ],
   "source": [
    "var11[1:18:2]"
   ]
  },
  {
   "cell_type": "code",
   "execution_count": 38,
   "id": "039c89bd",
   "metadata": {},
   "outputs": [
    {
     "data": {
      "text/plain": [
       "'eo si ms it'"
      ]
     },
     "execution_count": 38,
     "metadata": {},
     "output_type": "execute_result"
    }
   ],
   "source": [
    "var11[::-2]"
   ]
  },
  {
   "cell_type": "code",
   "execution_count": 40,
   "id": "cbbb0bf6",
   "metadata": {},
   "outputs": [
    {
     "data": {
      "text/plain": [
       "'edoc tsri'"
      ]
     },
     "execution_count": 40,
     "metadata": {},
     "output_type": "execute_result"
    }
   ],
   "source": [
    "var11[ -1: -10 : -1]"
   ]
  },
  {
   "cell_type": "code",
   "execution_count": 41,
   "id": "07d0e049",
   "metadata": {},
   "outputs": [
    {
     "data": {
      "text/plain": [
       "''"
      ]
     },
     "execution_count": 41,
     "metadata": {},
     "output_type": "execute_result"
    }
   ],
   "source": [
    "var11[ -1: -10 : 1]"
   ]
  },
  {
   "cell_type": "code",
   "execution_count": 43,
   "id": "b496e80d",
   "metadata": {},
   "outputs": [
    {
     "data": {
      "text/plain": [
       "'is is my '"
      ]
     },
     "execution_count": 43,
     "metadata": {},
     "output_type": "execute_result"
    }
   ],
   "source": [
    "var11[ 2: -10 : 1]"
   ]
  },
  {
   "cell_type": "code",
   "execution_count": 42,
   "id": "457c45d0",
   "metadata": {},
   "outputs": [
    {
     "data": {
      "text/plain": [
       "'this is my first code'"
      ]
     },
     "execution_count": 42,
     "metadata": {},
     "output_type": "execute_result"
    }
   ],
   "source": [
    "var11"
   ]
  },
  {
   "cell_type": "code",
   "execution_count": 46,
   "id": "98ac56db",
   "metadata": {},
   "outputs": [
    {
     "data": {
      "text/plain": [
       "'is is m'"
      ]
     },
     "execution_count": 46,
     "metadata": {},
     "output_type": "execute_result"
    }
   ],
   "source": [
    "var11[2:-12:1]"
   ]
  },
  {
   "cell_type": "code",
   "execution_count": 49,
   "id": "22a8c9f5",
   "metadata": {},
   "outputs": [
    {
     "data": {
      "text/plain": [
       "'doc tsr'"
      ]
     },
     "execution_count": 49,
     "metadata": {},
     "output_type": "execute_result"
    }
   ],
   "source": [
    "var11[-2:12:-1]"
   ]
  },
  {
   "cell_type": "code",
   "execution_count": 53,
   "id": "0da3844c",
   "metadata": {},
   "outputs": [
    {
     "data": {
      "text/plain": [
       "'is is my f'"
      ]
     },
     "execution_count": 53,
     "metadata": {},
     "output_type": "execute_result"
    }
   ],
   "source": [
    "var11[2:12]"
   ]
  },
  {
   "cell_type": "code",
   "execution_count": 54,
   "id": "6f66232f",
   "metadata": {},
   "outputs": [
    {
     "data": {
      "text/plain": [
       "''"
      ]
     },
     "execution_count": 54,
     "metadata": {},
     "output_type": "execute_result"
    }
   ],
   "source": [
    "var11[-2:12]"
   ]
  },
  {
   "cell_type": "code",
   "execution_count": 56,
   "id": "d9452d97",
   "metadata": {},
   "outputs": [
    {
     "data": {
      "text/plain": [
       "'doc tsrif '"
      ]
     },
     "execution_count": 56,
     "metadata": {},
     "output_type": "execute_result"
    }
   ],
   "source": [
    "var11[-2:-12: -1]"
   ]
  },
  {
   "cell_type": "code",
   "execution_count": null,
   "id": "35bfc107",
   "metadata": {},
   "outputs": [],
   "source": []
  }
 ],
 "metadata": {
  "kernelspec": {
   "display_name": "Python 3 (ipykernel)",
   "language": "python",
   "name": "python3"
  },
  "language_info": {
   "codemirror_mode": {
    "name": "ipython",
    "version": 3
   },
   "file_extension": ".py",
   "mimetype": "text/x-python",
   "name": "python",
   "nbconvert_exporter": "python",
   "pygments_lexer": "ipython3",
   "version": "3.11.5"
  }
 },
 "nbformat": 4,
 "nbformat_minor": 5
}
