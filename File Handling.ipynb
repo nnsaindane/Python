{
 "cells": [
  {
   "cell_type": "code",
   "execution_count": 4,
   "id": "3cb63d02",
   "metadata": {},
   "outputs": [],
   "source": [
    "f = open(\"demo.txt\", \"w\")"
   ]
  },
  {
   "cell_type": "code",
   "execution_count": 6,
   "id": "5a6eb371",
   "metadata": {},
   "outputs": [
    {
     "data": {
      "text/plain": [
       "179"
      ]
     },
     "execution_count": 6,
     "metadata": {},
     "output_type": "execute_result"
    }
   ],
   "source": [
    "f.write(\"Python is a high-level programming language that lets you work more efficiently and effectively. You can download the latest version of Python for Windows, macOS or Linux from the\")"
   ]
  },
  {
   "cell_type": "code",
   "execution_count": 7,
   "id": "f4703d95",
   "metadata": {},
   "outputs": [],
   "source": [
    "f.close()"
   ]
  },
  {
   "cell_type": "code",
   "execution_count": 9,
   "id": "5f12d81a",
   "metadata": {},
   "outputs": [],
   "source": [
    "f1 = open(\"demo.txt\", \"r\")"
   ]
  },
  {
   "cell_type": "code",
   "execution_count": 10,
   "id": "a8456a6f",
   "metadata": {},
   "outputs": [
    {
     "data": {
      "text/plain": [
       "'Python is a high-level programming language that lets you work more efficiently and effectively. You can download the latest version of Python for Windows, macOS or Linux from the'"
      ]
     },
     "execution_count": 10,
     "metadata": {},
     "output_type": "execute_result"
    }
   ],
   "source": [
    "f1.read()"
   ]
  },
  {
   "cell_type": "code",
   "execution_count": 12,
   "id": "87620ff3",
   "metadata": {},
   "outputs": [
    {
     "data": {
      "text/plain": [
       "''"
      ]
     },
     "execution_count": 12,
     "metadata": {},
     "output_type": "execute_result"
    }
   ],
   "source": [
    "f1.read()"
   ]
  },
  {
   "cell_type": "code",
   "execution_count": 13,
   "id": "131f0048",
   "metadata": {},
   "outputs": [],
   "source": [
    "f1.close()"
   ]
  },
  {
   "cell_type": "code",
   "execution_count": 16,
   "id": "0ef284a6",
   "metadata": {},
   "outputs": [],
   "source": [
    "f2 =open(\"demo1.txt\", \"w\")"
   ]
  },
  {
   "cell_type": "code",
   "execution_count": 17,
   "id": "86a05b13",
   "metadata": {},
   "outputs": [
    {
     "data": {
      "text/plain": [
       "43"
      ]
     },
     "execution_count": 17,
     "metadata": {},
     "output_type": "execute_result"
    }
   ],
   "source": [
    "f2.write(\"Python is a high-level programming language\")"
   ]
  },
  {
   "cell_type": "code",
   "execution_count": 18,
   "id": "047d1db7",
   "metadata": {},
   "outputs": [],
   "source": [
    "f2.close()"
   ]
  },
  {
   "cell_type": "code",
   "execution_count": 20,
   "id": "f73b9306",
   "metadata": {},
   "outputs": [],
   "source": [
    "f3 =open(\"demo1.txt\", \"r+\")"
   ]
  },
  {
   "cell_type": "code",
   "execution_count": 21,
   "id": "a1d79b8f",
   "metadata": {},
   "outputs": [
    {
     "data": {
      "text/plain": [
       "'Python is a high-level programming language'"
      ]
     },
     "execution_count": 21,
     "metadata": {},
     "output_type": "execute_result"
    }
   ],
   "source": [
    "f3.read()"
   ]
  },
  {
   "cell_type": "code",
   "execution_count": 22,
   "id": "70e401f5",
   "metadata": {},
   "outputs": [
    {
     "data": {
      "text/plain": [
       "35"
      ]
     },
     "execution_count": 22,
     "metadata": {},
     "output_type": "execute_result"
    }
   ],
   "source": [
    "f3.write(\" that lets you work more efficiently\")"
   ]
  },
  {
   "cell_type": "code",
   "execution_count": 23,
   "id": "80e83075",
   "metadata": {},
   "outputs": [],
   "source": [
    "f3.close()"
   ]
  },
  {
   "cell_type": "code",
   "execution_count": 24,
   "id": "0e4464cb",
   "metadata": {},
   "outputs": [],
   "source": [
    "f4 =open(\"demo1.txt\", \"a\")"
   ]
  },
  {
   "cell_type": "code",
   "execution_count": 25,
   "id": "658c1b54",
   "metadata": {},
   "outputs": [
    {
     "data": {
      "text/plain": [
       "17"
      ]
     },
     "execution_count": 25,
     "metadata": {},
     "output_type": "execute_result"
    }
   ],
   "source": [
    "f4.write(\" and effectively.\")"
   ]
  },
  {
   "cell_type": "code",
   "execution_count": 26,
   "id": "fe4e888f",
   "metadata": {},
   "outputs": [],
   "source": [
    "f4.close()"
   ]
  },
  {
   "cell_type": "code",
   "execution_count": 27,
   "id": "ab4040f0",
   "metadata": {},
   "outputs": [
    {
     "data": {
      "text/plain": [
       "'a'"
      ]
     },
     "execution_count": 27,
     "metadata": {},
     "output_type": "execute_result"
    }
   ],
   "source": [
    "f4.mode"
   ]
  },
  {
   "cell_type": "code",
   "execution_count": 29,
   "id": "268e7bb9",
   "metadata": {},
   "outputs": [],
   "source": [
    "f5 =open(\"demo1.txt\", \"r+\")"
   ]
  },
  {
   "cell_type": "code",
   "execution_count": 31,
   "id": "1ca273ed",
   "metadata": {},
   "outputs": [
    {
     "data": {
      "text/plain": [
       "0"
      ]
     },
     "execution_count": 31,
     "metadata": {},
     "output_type": "execute_result"
    }
   ],
   "source": [
    "f5.tell()"
   ]
  },
  {
   "cell_type": "code",
   "execution_count": 32,
   "id": "7dbd71d1",
   "metadata": {},
   "outputs": [
    {
     "data": {
      "text/plain": [
       "20"
      ]
     },
     "execution_count": 32,
     "metadata": {},
     "output_type": "execute_result"
    }
   ],
   "source": [
    "f5.seek(20)"
   ]
  },
  {
   "cell_type": "code",
   "execution_count": 33,
   "id": "9a223503",
   "metadata": {},
   "outputs": [
    {
     "data": {
      "text/plain": [
       "'el programming languagethat lets you work more efficiently and effectively.'"
      ]
     },
     "execution_count": 33,
     "metadata": {},
     "output_type": "execute_result"
    }
   ],
   "source": [
    "f5.read()"
   ]
  },
  {
   "cell_type": "code",
   "execution_count": 34,
   "id": "7447ed35",
   "metadata": {},
   "outputs": [
    {
     "name": "stdout",
     "output_type": "stream",
     "text": [
      "Writing demo2.txt\n"
     ]
    }
   ],
   "source": [
    "%%writefile demo2.txt    \n",
    "my name is amit \n",
    "i am  mentor"
   ]
  },
  {
   "cell_type": "code",
   "execution_count": 35,
   "id": "6128c87f",
   "metadata": {},
   "outputs": [],
   "source": [
    "import os"
   ]
  },
  {
   "cell_type": "code",
   "execution_count": 36,
   "id": "06b9daa1",
   "metadata": {},
   "outputs": [
    {
     "name": "stdout",
     "output_type": "stream",
     "text": [
      " Volume in drive C is Local Disk\n",
      " Volume Serial Number is F00E-CCC8\n",
      "\n",
      " Directory of C:\\Users\\amitm\\Class\\6_30 pm\n",
      "\n",
      "19-02-2024  19:10    <DIR>          .\n",
      "02-02-2024  17:42    <DIR>          ..\n",
      "19-02-2024  18:52    <DIR>          .ipynb_checkpoints\n",
      "11-01-2024  19:06            14,416 Basic 2.ipynb\n",
      "19-01-2024  18:46            28,887 basics.ipynb\n",
      "02-02-2024  19:14            11,840 Condition_2.ipynb\n",
      "06-02-2024  19:20            13,927 condition_3.ipynb\n",
      "01-02-2024  19:20            14,593 Conditions.ipynb\n",
      "19-02-2024  18:55               179 demo.txt\n",
      "19-02-2024  19:03                95 demo1.txt\n",
      "19-02-2024  19:10                32 demo2.txt\n",
      "31-01-2024  19:45            30,857 Dictionary.ipynb\n",
      "15-02-2024  19:14            12,549 Exception_Handling.ipynb\n",
      "19-02-2024  19:10             6,846 File Handling.ipynb\n",
      "07-02-2024  19:13            12,334 For Loop.ipynb\n",
      "14-02-2024  18:36            16,020 Function .ipynb\n",
      "14-02-2024  19:37            16,631 Lambda function.ipynb\n",
      "23-01-2024  19:13            25,041 List .ipynb\n",
      "16-02-2024  19:13               975 logfile.txt\n",
      "16-02-2024  19:16            14,047 Logging.ipynb\n",
      "09-02-2024  19:05            10,536 Loop_practice.ipynb\n",
      "19-01-2024  19:29            19,931 String Operation.ipynb\n",
      "19-01-2024  18:54            18,570 string.ipynb\n",
      "24-01-2024  15:45            21,661 Untitled.ipynb\n",
      "13-02-2024  18:38            15,978 While loop 1.ipynb\n",
      "08-02-2024  19:41        60,065,638 While loop.ipynb\n",
      "              23 File(s)     60,371,583 bytes\n",
      "               3 Dir(s)  53,649,924,096 bytes free\n"
     ]
    }
   ],
   "source": [
    "ls"
   ]
  },
  {
   "cell_type": "code",
   "execution_count": 37,
   "id": "c3b35d9a",
   "metadata": {},
   "outputs": [
    {
     "data": {
      "text/plain": [
       "'C:\\\\Users\\\\amitm\\\\Class\\\\6_30 pm'"
      ]
     },
     "execution_count": 37,
     "metadata": {},
     "output_type": "execute_result"
    }
   ],
   "source": [
    "os.getcwd()"
   ]
  },
  {
   "cell_type": "code",
   "execution_count": 38,
   "id": "bc87b9d1",
   "metadata": {},
   "outputs": [
    {
     "data": {
      "text/plain": [
       "['.ipynb_checkpoints',\n",
       " 'Basic 2.ipynb',\n",
       " 'basics.ipynb',\n",
       " 'Conditions.ipynb',\n",
       " 'Condition_2.ipynb',\n",
       " 'condition_3.ipynb',\n",
       " 'demo.txt',\n",
       " 'demo1.txt',\n",
       " 'demo2.txt',\n",
       " 'Dictionary.ipynb',\n",
       " 'Exception_Handling.ipynb',\n",
       " 'File Handling.ipynb',\n",
       " 'For Loop.ipynb',\n",
       " 'Function .ipynb',\n",
       " 'Lambda function.ipynb',\n",
       " 'List .ipynb',\n",
       " 'logfile.txt',\n",
       " 'Logging.ipynb',\n",
       " 'Loop_practice.ipynb',\n",
       " 'String Operation.ipynb',\n",
       " 'string.ipynb',\n",
       " 'Untitled.ipynb',\n",
       " 'While loop 1.ipynb',\n",
       " 'While loop.ipynb']"
      ]
     },
     "execution_count": 38,
     "metadata": {},
     "output_type": "execute_result"
    }
   ],
   "source": [
    "os.listdir()"
   ]
  },
  {
   "cell_type": "code",
   "execution_count": 40,
   "id": "1a38ec2c",
   "metadata": {},
   "outputs": [],
   "source": [
    "os.chdir(\"C:\\\\Users\\\\amitm\\\\Downloads\")"
   ]
  },
  {
   "cell_type": "code",
   "execution_count": 41,
   "id": "99be5f78",
   "metadata": {},
   "outputs": [
    {
     "data": {
      "text/plain": [
       "'C:\\\\Users\\\\amitm\\\\Downloads'"
      ]
     },
     "execution_count": 41,
     "metadata": {},
     "output_type": "execute_result"
    }
   ],
   "source": [
    "os.getcwd()"
   ]
  },
  {
   "cell_type": "code",
   "execution_count": 70,
   "id": "77ff788f",
   "metadata": {},
   "outputs": [
    {
     "data": {
      "text/plain": [
       "['.ipynb_checkpoints',\n",
       " 'Basic 2.ipynb',\n",
       " 'basics.ipynb',\n",
       " 'Conditions.ipynb',\n",
       " 'Condition_2.ipynb',\n",
       " 'condition_3.ipynb',\n",
       " 'demo.txt',\n",
       " 'demo1.txt',\n",
       " 'demo2.txt',\n",
       " 'Dictionary.ipynb',\n",
       " 'Exception_Handling.ipynb',\n",
       " 'File Handling.ipynb',\n",
       " 'For Loop.ipynb',\n",
       " 'Function .ipynb',\n",
       " 'Lambda function.ipynb',\n",
       " 'List .ipynb',\n",
       " 'logfile.txt',\n",
       " 'Logging.ipynb',\n",
       " 'Loop_practice.ipynb',\n",
       " 'new',\n",
       " 'new111.txt',\n",
       " 'String Operation.ipynb',\n",
       " 'string.ipynb',\n",
       " 'Untitled.ipynb',\n",
       " 'While loop 1.ipynb',\n",
       " 'While loop.ipynb']"
      ]
     },
     "execution_count": 70,
     "metadata": {},
     "output_type": "execute_result"
    }
   ],
   "source": [
    "os.listdir()"
   ]
  },
  {
   "cell_type": "code",
   "execution_count": 43,
   "id": "5f86c66b",
   "metadata": {},
   "outputs": [],
   "source": [
    "os.chdir(\"C:/Users/amitm/OneDrive/Desktop/Material\")"
   ]
  },
  {
   "cell_type": "code",
   "execution_count": 44,
   "id": "d8ae9a9f",
   "metadata": {},
   "outputs": [
    {
     "data": {
      "text/plain": [
       "'C:\\\\Users\\\\amitm\\\\OneDrive\\\\Desktop\\\\Material'"
      ]
     },
     "execution_count": 44,
     "metadata": {},
     "output_type": "execute_result"
    }
   ],
   "source": [
    "os.getcwd()"
   ]
  },
  {
   "cell_type": "code",
   "execution_count": 45,
   "id": "627266c3",
   "metadata": {},
   "outputs": [
    {
     "data": {
      "text/plain": [
       "['Adv Excel',\n",
       " 'EDA',\n",
       " 'linear regression',\n",
       " 'MachineLearning-main',\n",
       " 'Matplotlib',\n",
       " 'My SQL with W3School',\n",
       " 'Other Topics',\n",
       " 'Pandas',\n",
       " 'Power BI',\n",
       " 'power BI material',\n",
       " 'Python',\n",
       " 'SQL',\n",
       " 'Statistics']"
      ]
     },
     "execution_count": 45,
     "metadata": {},
     "output_type": "execute_result"
    }
   ],
   "source": [
    "os.listdir()"
   ]
  },
  {
   "cell_type": "code",
   "execution_count": 46,
   "id": "f8184e5d",
   "metadata": {},
   "outputs": [],
   "source": [
    "os.chdir(\"C:/Users/amitm/OneDrive/Desktop/Material/SQL\")"
   ]
  },
  {
   "cell_type": "code",
   "execution_count": 47,
   "id": "5e006bb2",
   "metadata": {},
   "outputs": [
    {
     "data": {
      "text/plain": [
       "'C:\\\\Users\\\\amitm\\\\OneDrive\\\\Desktop\\\\Material\\\\SQL'"
      ]
     },
     "execution_count": 47,
     "metadata": {},
     "output_type": "execute_result"
    }
   ],
   "source": [
    "os.getcwd()"
   ]
  },
  {
   "cell_type": "code",
   "execution_count": 48,
   "id": "a9768596",
   "metadata": {},
   "outputs": [
    {
     "data": {
      "text/plain": [
       "['Chinook.sql',\n",
       " 'classicmodels.sql',\n",
       " 'compose_key.sql',\n",
       " 'datascience.sql',\n",
       " 'Date.csv',\n",
       " 'Demo database.csv',\n",
       " 'Demo database.xlsx',\n",
       " 'employee.csv',\n",
       " 'Jcust.csv',\n",
       " 'jdate.csv',\n",
       " 'MYSQL with python.ipynb',\n",
       " 'order.csv',\n",
       " 'Practice mysql basic.sql',\n",
       " 'prod.csv',\n",
       " 'sakila.sql',\n",
       " 'sportsdb_qa.sql',\n",
       " 'ucust.csv',\n",
       " 'usupp.csv',\n",
       " 'world.sql',\n",
       " 'world_x.sql',\n",
       " 'xtoss.sql']"
      ]
     },
     "execution_count": 48,
     "metadata": {},
     "output_type": "execute_result"
    }
   ],
   "source": [
    "os.listdir()"
   ]
  },
  {
   "cell_type": "code",
   "execution_count": 49,
   "id": "bc39c2a4",
   "metadata": {},
   "outputs": [
    {
     "data": {
      "text/plain": [
       "<_io.TextIOWrapper name='test.txt' mode='w' encoding='cp1252'>"
      ]
     },
     "execution_count": 49,
     "metadata": {},
     "output_type": "execute_result"
    }
   ],
   "source": [
    "open(\"test.txt\", \"w\")"
   ]
  },
  {
   "cell_type": "code",
   "execution_count": 50,
   "id": "10347dc5",
   "metadata": {},
   "outputs": [
    {
     "data": {
      "text/plain": [
       "['Chinook.sql',\n",
       " 'classicmodels.sql',\n",
       " 'compose_key.sql',\n",
       " 'datascience.sql',\n",
       " 'Date.csv',\n",
       " 'Demo database.csv',\n",
       " 'Demo database.xlsx',\n",
       " 'employee.csv',\n",
       " 'Jcust.csv',\n",
       " 'jdate.csv',\n",
       " 'MYSQL with python.ipynb',\n",
       " 'order.csv',\n",
       " 'Practice mysql basic.sql',\n",
       " 'prod.csv',\n",
       " 'sakila.sql',\n",
       " 'sportsdb_qa.sql',\n",
       " 'test.txt',\n",
       " 'ucust.csv',\n",
       " 'usupp.csv',\n",
       " 'world.sql',\n",
       " 'world_x.sql',\n",
       " 'xtoss.sql']"
      ]
     },
     "execution_count": 50,
     "metadata": {},
     "output_type": "execute_result"
    }
   ],
   "source": [
    "os.listdir()"
   ]
  },
  {
   "cell_type": "code",
   "execution_count": 51,
   "id": "de53f4f4",
   "metadata": {},
   "outputs": [],
   "source": [
    "os.chdir('C:\\\\Users\\\\amitm\\\\Class\\\\6_30 pm')"
   ]
  },
  {
   "cell_type": "code",
   "execution_count": 52,
   "id": "47d91248",
   "metadata": {},
   "outputs": [
    {
     "data": {
      "text/plain": [
       "['.ipynb_checkpoints',\n",
       " 'Basic 2.ipynb',\n",
       " 'basics.ipynb',\n",
       " 'Conditions.ipynb',\n",
       " 'Condition_2.ipynb',\n",
       " 'condition_3.ipynb',\n",
       " 'demo.txt',\n",
       " 'demo1.txt',\n",
       " 'demo2.txt',\n",
       " 'Dictionary.ipynb',\n",
       " 'Exception_Handling.ipynb',\n",
       " 'File Handling.ipynb',\n",
       " 'For Loop.ipynb',\n",
       " 'Function .ipynb',\n",
       " 'Lambda function.ipynb',\n",
       " 'List .ipynb',\n",
       " 'logfile.txt',\n",
       " 'Logging.ipynb',\n",
       " 'Loop_practice.ipynb',\n",
       " 'String Operation.ipynb',\n",
       " 'string.ipynb',\n",
       " 'Untitled.ipynb',\n",
       " 'While loop 1.ipynb',\n",
       " 'While loop.ipynb']"
      ]
     },
     "execution_count": 52,
     "metadata": {},
     "output_type": "execute_result"
    }
   ],
   "source": [
    "os.listdir()"
   ]
  },
  {
   "cell_type": "code",
   "execution_count": 53,
   "id": "7a06ec98",
   "metadata": {},
   "outputs": [],
   "source": [
    "os.mkdir(\"new\")"
   ]
  },
  {
   "cell_type": "code",
   "execution_count": 54,
   "id": "39cb38fe",
   "metadata": {},
   "outputs": [
    {
     "data": {
      "text/plain": [
       "['.ipynb_checkpoints',\n",
       " 'Basic 2.ipynb',\n",
       " 'basics.ipynb',\n",
       " 'Conditions.ipynb',\n",
       " 'Condition_2.ipynb',\n",
       " 'condition_3.ipynb',\n",
       " 'demo.txt',\n",
       " 'demo1.txt',\n",
       " 'demo2.txt',\n",
       " 'Dictionary.ipynb',\n",
       " 'Exception_Handling.ipynb',\n",
       " 'File Handling.ipynb',\n",
       " 'For Loop.ipynb',\n",
       " 'Function .ipynb',\n",
       " 'Lambda function.ipynb',\n",
       " 'List .ipynb',\n",
       " 'logfile.txt',\n",
       " 'Logging.ipynb',\n",
       " 'Loop_practice.ipynb',\n",
       " 'new',\n",
       " 'String Operation.ipynb',\n",
       " 'string.ipynb',\n",
       " 'Untitled.ipynb',\n",
       " 'While loop 1.ipynb',\n",
       " 'While loop.ipynb']"
      ]
     },
     "execution_count": 54,
     "metadata": {},
     "output_type": "execute_result"
    }
   ],
   "source": [
    "os.listdir()"
   ]
  },
  {
   "cell_type": "code",
   "execution_count": 55,
   "id": "680f3d8d",
   "metadata": {},
   "outputs": [],
   "source": [
    "os.chdir('C:\\\\Users\\\\amitm\\\\Class\\\\6_30 pm\\\\new')"
   ]
  },
  {
   "cell_type": "code",
   "execution_count": 56,
   "id": "71f21411",
   "metadata": {},
   "outputs": [
    {
     "data": {
      "text/plain": [
       "[]"
      ]
     },
     "execution_count": 56,
     "metadata": {},
     "output_type": "execute_result"
    }
   ],
   "source": [
    "os.listdir()"
   ]
  },
  {
   "cell_type": "code",
   "execution_count": 57,
   "id": "c45c6bd3",
   "metadata": {},
   "outputs": [
    {
     "data": {
      "text/plain": [
       "<_io.TextIOWrapper name='test1.txt' mode='w' encoding='cp1252'>"
      ]
     },
     "execution_count": 57,
     "metadata": {},
     "output_type": "execute_result"
    }
   ],
   "source": [
    "open(\"test1.txt\", \"w\")"
   ]
  },
  {
   "cell_type": "code",
   "execution_count": 58,
   "id": "0899c7db",
   "metadata": {},
   "outputs": [
    {
     "data": {
      "text/plain": [
       "['test1.txt']"
      ]
     },
     "execution_count": 58,
     "metadata": {},
     "output_type": "execute_result"
    }
   ],
   "source": [
    "os.listdir()"
   ]
  },
  {
   "cell_type": "code",
   "execution_count": 59,
   "id": "bf94f808",
   "metadata": {},
   "outputs": [
    {
     "ename": "PermissionError",
     "evalue": "[WinError 32] The process cannot access the file because it is being used by another process: 'test1.txt'",
     "output_type": "error",
     "traceback": [
      "\u001b[1;31m---------------------------------------------------------------------------\u001b[0m",
      "\u001b[1;31mPermissionError\u001b[0m                           Traceback (most recent call last)",
      "Cell \u001b[1;32mIn[59], line 1\u001b[0m\n\u001b[1;32m----> 1\u001b[0m os\u001b[38;5;241m.\u001b[39mremove(\u001b[38;5;124m\"\u001b[39m\u001b[38;5;124mtest1.txt\u001b[39m\u001b[38;5;124m\"\u001b[39m)\n",
      "\u001b[1;31mPermissionError\u001b[0m: [WinError 32] The process cannot access the file because it is being used by another process: 'test1.txt'"
     ]
    }
   ],
   "source": [
    "os.remove(\"test1.txt\")"
   ]
  },
  {
   "cell_type": "code",
   "execution_count": null,
   "id": "da1c9c60",
   "metadata": {},
   "outputs": [],
   "source": [
    "os.rmdir(\"new\")"
   ]
  },
  {
   "cell_type": "code",
   "execution_count": 60,
   "id": "d0dbf21d",
   "metadata": {},
   "outputs": [],
   "source": [
    "os.chdir('C:\\\\Users\\\\amitm\\\\Class\\\\6_30 pm')"
   ]
  },
  {
   "cell_type": "code",
   "execution_count": 61,
   "id": "cb835905",
   "metadata": {},
   "outputs": [
    {
     "ename": "OSError",
     "evalue": "[WinError 145] The directory is not empty: 'new'",
     "output_type": "error",
     "traceback": [
      "\u001b[1;31m---------------------------------------------------------------------------\u001b[0m",
      "\u001b[1;31mOSError\u001b[0m                                   Traceback (most recent call last)",
      "Cell \u001b[1;32mIn[61], line 1\u001b[0m\n\u001b[1;32m----> 1\u001b[0m os\u001b[38;5;241m.\u001b[39mrmdir(\u001b[38;5;124m\"\u001b[39m\u001b[38;5;124mnew\u001b[39m\u001b[38;5;124m\"\u001b[39m)\n",
      "\u001b[1;31mOSError\u001b[0m: [WinError 145] The directory is not empty: 'new'"
     ]
    }
   ],
   "source": [
    "os.rmdir(\"new\")"
   ]
  },
  {
   "cell_type": "code",
   "execution_count": 62,
   "id": "40c0c0ce",
   "metadata": {},
   "outputs": [
    {
     "data": {
      "text/plain": [
       "['.ipynb_checkpoints',\n",
       " 'Basic 2.ipynb',\n",
       " 'basics.ipynb',\n",
       " 'Conditions.ipynb',\n",
       " 'Condition_2.ipynb',\n",
       " 'condition_3.ipynb',\n",
       " 'demo.txt',\n",
       " 'demo1.txt',\n",
       " 'demo2.txt',\n",
       " 'Dictionary.ipynb',\n",
       " 'Exception_Handling.ipynb',\n",
       " 'File Handling.ipynb',\n",
       " 'For Loop.ipynb',\n",
       " 'Function .ipynb',\n",
       " 'Lambda function.ipynb',\n",
       " 'List .ipynb',\n",
       " 'logfile.txt',\n",
       " 'Logging.ipynb',\n",
       " 'Loop_practice.ipynb',\n",
       " 'new',\n",
       " 'String Operation.ipynb',\n",
       " 'string.ipynb',\n",
       " 'Untitled.ipynb',\n",
       " 'While loop 1.ipynb',\n",
       " 'While loop.ipynb']"
      ]
     },
     "execution_count": 62,
     "metadata": {},
     "output_type": "execute_result"
    }
   ],
   "source": [
    "os.listdir()"
   ]
  },
  {
   "cell_type": "code",
   "execution_count": 63,
   "id": "0cda7b3f",
   "metadata": {},
   "outputs": [
    {
     "name": "stdout",
     "output_type": "stream",
     "text": [
      "yes\n"
     ]
    }
   ],
   "source": [
    "if 'new' in os.listdir():\n",
    "    print(\"yes\")\n",
    "    f = open(\"new1111.txt\", \"w\")\n",
    "    #for i in f:\n",
    "        #print(i)\n",
    "else:\n",
    "    print(\"no\")"
   ]
  },
  {
   "cell_type": "code",
   "execution_count": 64,
   "id": "2002e8c2",
   "metadata": {},
   "outputs": [
    {
     "name": "stdout",
     "output_type": "stream",
     "text": [
      "yes\n"
     ]
    },
    {
     "ename": "UnsupportedOperation",
     "evalue": "not readable",
     "output_type": "error",
     "traceback": [
      "\u001b[1;31m---------------------------------------------------------------------------\u001b[0m",
      "\u001b[1;31mUnsupportedOperation\u001b[0m                      Traceback (most recent call last)",
      "Cell \u001b[1;32mIn[64], line 4\u001b[0m\n\u001b[0;32m      2\u001b[0m     \u001b[38;5;28mprint\u001b[39m(\u001b[38;5;124m\"\u001b[39m\u001b[38;5;124myes\u001b[39m\u001b[38;5;124m\"\u001b[39m)\n\u001b[0;32m      3\u001b[0m     f \u001b[38;5;241m=\u001b[39m \u001b[38;5;28mopen\u001b[39m(\u001b[38;5;124m\"\u001b[39m\u001b[38;5;124mnew111.txt\u001b[39m\u001b[38;5;124m\"\u001b[39m, \u001b[38;5;124m\"\u001b[39m\u001b[38;5;124mw\u001b[39m\u001b[38;5;124m\"\u001b[39m)\n\u001b[1;32m----> 4\u001b[0m     \u001b[38;5;28;01mfor\u001b[39;00m i \u001b[38;5;129;01min\u001b[39;00m f:\n\u001b[0;32m      5\u001b[0m         \u001b[38;5;28mprint\u001b[39m(i)\n\u001b[0;32m      6\u001b[0m \u001b[38;5;28;01melse\u001b[39;00m:\n",
      "\u001b[1;31mUnsupportedOperation\u001b[0m: not readable"
     ]
    }
   ],
   "source": [
    "if 'new' in os.listdir():\n",
    "    print(\"yes\")\n",
    "    f = open(\"new111.txt\", \"w\")\n",
    "    for i in f:\n",
    "        print(i)\n",
    "else:\n",
    "    print(\"no\")"
   ]
  },
  {
   "cell_type": "code",
   "execution_count": 69,
   "id": "09511769",
   "metadata": {},
   "outputs": [],
   "source": [
    "for i in os.listdir():\n",
    "    if i == \"new1111.txt\":\n",
    "        os.remove(i)"
   ]
  },
  {
   "cell_type": "code",
   "execution_count": null,
   "id": "80ee3f42",
   "metadata": {},
   "outputs": [],
   "source": [
    "def remove_file(a):\n",
    "    import os\n",
    "    for i in os.a():\n",
    "        if i == \"filename\":\n",
    "            os.remove(i)\n",
    "    return "
   ]
  },
  {
   "cell_type": "code",
   "execution_count": null,
   "id": "d9850770",
   "metadata": {},
   "outputs": [],
   "source": [
    "lis= []\n",
    "\n",
    "for i in os.listdir():\n",
    "    f = open(i, \"r\")\n",
    "    f.newlines()\n",
    "    f.read()\n",
    "    lis.append(f.read())"
   ]
  },
  {
   "cell_type": "code",
   "execution_count": null,
   "id": "ddda338b",
   "metadata": {},
   "outputs": [],
   "source": [
    "with open('demo21.txt', 'r') as file:\n",
    "    while True:\n",
    "        line = file.readline()\n",
    "        if not line:\n",
    "            break  # End of file reached\n",
    "        print(line)"
   ]
  },
  {
   "cell_type": "code",
   "execution_count": null,
   "id": "6802fe9c",
   "metadata": {},
   "outputs": [],
   "source": [
    "os."
   ]
  }
 ],
 "metadata": {
  "kernelspec": {
   "display_name": "Python 3 (ipykernel)",
   "language": "python",
   "name": "python3"
  },
  "language_info": {
   "codemirror_mode": {
    "name": "ipython",
    "version": 3
   },
   "file_extension": ".py",
   "mimetype": "text/x-python",
   "name": "python",
   "nbconvert_exporter": "python",
   "pygments_lexer": "ipython3",
   "version": "3.11.5"
  }
 },
 "nbformat": 4,
 "nbformat_minor": 5
}
