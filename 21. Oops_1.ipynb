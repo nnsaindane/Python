{
 "cells": [
  {
   "cell_type": "code",
   "execution_count": 1,
   "id": "d5d1708b",
   "metadata": {},
   "outputs": [],
   "source": [
    "class person:     #attributes     # __inti__ = constructor,  self is a pointer to class\n",
    "    \n",
    "    def __init__(self, name, surname, emailid , year_of_birth):   # method \n",
    "        \n",
    "        self.name = name\n",
    "        self.surname = surname\n",
    "        self.emailid = emailid\n",
    "        self.year_of_birth = year_of_birth"
   ]
  },
  {
   "cell_type": "code",
   "execution_count": 3,
   "id": "a44f860c",
   "metadata": {},
   "outputs": [],
   "source": [
    "details = person(\"amit\", \"kumar\", \"amitkm@gmail.com\", 1993)    #object"
   ]
  },
  {
   "cell_type": "code",
   "execution_count": 5,
   "id": "110a3e4a",
   "metadata": {},
   "outputs": [
    {
     "data": {
      "text/plain": [
       "'amit'"
      ]
     },
     "execution_count": 5,
     "metadata": {},
     "output_type": "execute_result"
    }
   ],
   "source": [
    "details.name"
   ]
  },
  {
   "cell_type": "code",
   "execution_count": 6,
   "id": "03834a5f",
   "metadata": {},
   "outputs": [
    {
     "data": {
      "text/plain": [
       "'kumar'"
      ]
     },
     "execution_count": 6,
     "metadata": {},
     "output_type": "execute_result"
    }
   ],
   "source": [
    "details.surname"
   ]
  },
  {
   "cell_type": "code",
   "execution_count": 8,
   "id": "c3b53f81",
   "metadata": {},
   "outputs": [],
   "source": [
    "obj2 = person(\"nilesh\", \"sharma\", \"nilesh@gmail\", 1995)"
   ]
  },
  {
   "cell_type": "code",
   "execution_count": 9,
   "id": "ca31a1fa",
   "metadata": {},
   "outputs": [
    {
     "data": {
      "text/plain": [
       "'nilesh'"
      ]
     },
     "execution_count": 9,
     "metadata": {},
     "output_type": "execute_result"
    }
   ],
   "source": [
    "obj2.name"
   ]
  },
  {
   "cell_type": "code",
   "execution_count": null,
   "id": "5c7877f8",
   "metadata": {},
   "outputs": [],
   "source": []
  },
  {
   "cell_type": "code",
   "execution_count": null,
   "id": "af1d9c2d",
   "metadata": {},
   "outputs": [],
   "source": []
  },
  {
   "cell_type": "code",
   "execution_count": 10,
   "id": "0a38c5fc",
   "metadata": {},
   "outputs": [],
   "source": [
    "class person:\n",
    "\n",
    "    def __init__(self, name, surname, emailid, year_of_birth):\n",
    "        self.name = name\n",
    "        self.surname = surname\n",
    "        self.emailid = emailid\n",
    "        self.year_of_birth = year_of_birth\n",
    "                                              # last constructed method can only use\n",
    "        \n",
    "    def __init__(self, name, surname, year_of_birth):\n",
    "        self.name = name\n",
    "        self.surname = surname \n",
    "        self. year_of_birth= year_of_birth  \n",
    "        \n",
    "    def age(self, curretn_year):\n",
    "        return curretn_year - self.year_of_birth"
   ]
  },
  {
   "cell_type": "code",
   "execution_count": 12,
   "id": "bd23e8ca",
   "metadata": {},
   "outputs": [
    {
     "ename": "TypeError",
     "evalue": "person.__init__() takes 4 positional arguments but 5 were given",
     "output_type": "error",
     "traceback": [
      "\u001b[1;31m---------------------------------------------------------------------------\u001b[0m",
      "\u001b[1;31mTypeError\u001b[0m                                 Traceback (most recent call last)",
      "Cell \u001b[1;32mIn[12], line 1\u001b[0m\n\u001b[1;32m----> 1\u001b[0m person(\u001b[38;5;124m\"\u001b[39m\u001b[38;5;124mamit\u001b[39m\u001b[38;5;124m\"\u001b[39m, \u001b[38;5;124m\"\u001b[39m\u001b[38;5;124mkumar\u001b[39m\u001b[38;5;124m\"\u001b[39m, \u001b[38;5;124m\"\u001b[39m\u001b[38;5;124mamit@gmail.com\u001b[39m\u001b[38;5;124m\"\u001b[39m, \u001b[38;5;241m1999\u001b[39m)\n",
      "\u001b[1;31mTypeError\u001b[0m: person.__init__() takes 4 positional arguments but 5 were given"
     ]
    }
   ],
   "source": [
    "person(\"amit\", \"kumar\", \"amit@gmail.com\", 1999)"
   ]
  },
  {
   "cell_type": "code",
   "execution_count": 14,
   "id": "4e87fb3e",
   "metadata": {},
   "outputs": [],
   "source": [
    "o1 = person(\"amit\", \"kumar\",  1999)"
   ]
  },
  {
   "cell_type": "code",
   "execution_count": 15,
   "id": "e8a48529",
   "metadata": {},
   "outputs": [
    {
     "data": {
      "text/plain": [
       "<bound method person.age of <__main__.person object at 0x000001A4E1C6D290>>"
      ]
     },
     "execution_count": 15,
     "metadata": {},
     "output_type": "execute_result"
    }
   ],
   "source": [
    "o1.age"
   ]
  },
  {
   "cell_type": "code",
   "execution_count": 16,
   "id": "0837213a",
   "metadata": {},
   "outputs": [
    {
     "data": {
      "text/plain": [
       "'amit'"
      ]
     },
     "execution_count": 16,
     "metadata": {},
     "output_type": "execute_result"
    }
   ],
   "source": [
    "o1.name"
   ]
  },
  {
   "cell_type": "code",
   "execution_count": 17,
   "id": "4a2cb6b7",
   "metadata": {},
   "outputs": [
    {
     "data": {
      "text/plain": [
       "'kumar'"
      ]
     },
     "execution_count": 17,
     "metadata": {},
     "output_type": "execute_result"
    }
   ],
   "source": [
    "o1.surname"
   ]
  },
  {
   "cell_type": "code",
   "execution_count": 18,
   "id": "b0ee80f2",
   "metadata": {},
   "outputs": [
    {
     "data": {
      "text/plain": [
       "1999"
      ]
     },
     "execution_count": 18,
     "metadata": {},
     "output_type": "execute_result"
    }
   ],
   "source": [
    "o1.year_of_birth"
   ]
  },
  {
   "cell_type": "code",
   "execution_count": 19,
   "id": "8188f8f8",
   "metadata": {},
   "outputs": [],
   "source": [
    "class person:\n",
    "\n",
    "    def __init__(self, name, surname, emailid, year_of_birth):\n",
    "        self.name = name\n",
    "        self.surname = surname\n",
    "        self.emailid = emailid\n",
    "        self.year_of_birth = year_of_birth\n",
    "                                              # last constructed method can only use\n",
    "            \n",
    "    def __init__(self, name, surname):\n",
    "        self.name = name\n",
    "        self.surname = surname \n",
    "        self. year_of_birth= year_of_birth        \n",
    "            \n",
    "        \n",
    "    def __init__(self, name, surname, year_of_birth):\n",
    "        self.name = name\n",
    "        self.surname = surname \n",
    "        self. year_of_birth= year_of_birth \n",
    "        \n",
    "        \n",
    "        \n",
    "    def age(self, curretn_year):\n",
    "        return curretn_year - self.year_of_birth"
   ]
  },
  {
   "cell_type": "code",
   "execution_count": 20,
   "id": "219fa007",
   "metadata": {},
   "outputs": [],
   "source": [
    "o2 = person(\"amit\", \"kumar\",  1999)"
   ]
  },
  {
   "cell_type": "code",
   "execution_count": 21,
   "id": "8f1f3a69",
   "metadata": {},
   "outputs": [
    {
     "data": {
      "text/plain": [
       "-1974"
      ]
     },
     "execution_count": 21,
     "metadata": {},
     "output_type": "execute_result"
    }
   ],
   "source": [
    "o2.age(25)"
   ]
  },
  {
   "cell_type": "code",
   "execution_count": 22,
   "id": "95802865",
   "metadata": {},
   "outputs": [
    {
     "data": {
      "text/plain": [
       "25"
      ]
     },
     "execution_count": 22,
     "metadata": {},
     "output_type": "execute_result"
    }
   ],
   "source": [
    "o2.age(2024)"
   ]
  },
  {
   "cell_type": "code",
   "execution_count": null,
   "id": "618cf73f",
   "metadata": {},
   "outputs": [],
   "source": []
  },
  {
   "cell_type": "code",
   "execution_count": null,
   "id": "a73b2567",
   "metadata": {},
   "outputs": [],
   "source": []
  },
  {
   "cell_type": "code",
   "execution_count": 23,
   "id": "4679b641",
   "metadata": {},
   "outputs": [],
   "source": [
    "class person :\n",
    "\n",
    "    def age(self, curretn_year , year_of_birth):\n",
    "        return curretn_year - year_of_birth\n",
    "\n",
    "    def email_id_input(self, email_id ):\n",
    "        print(\"take and mail id form a person and print it \" , email_id)\n",
    "\n",
    "    def ask_name(self):\n",
    "        name = input(\"tell me your name \")\n",
    "        return name\n",
    "\n",
    "    def ask_dob(self):\n",
    "        dob = input(\"tell me your date of birth \")\n",
    "        return dob"
   ]
  },
  {
   "cell_type": "code",
   "execution_count": 25,
   "id": "7cf1d584",
   "metadata": {},
   "outputs": [],
   "source": [
    "o3 = person()"
   ]
  },
  {
   "cell_type": "code",
   "execution_count": 26,
   "id": "6b8ca526",
   "metadata": {},
   "outputs": [
    {
     "data": {
      "text/plain": [
       "24"
      ]
     },
     "execution_count": 26,
     "metadata": {},
     "output_type": "execute_result"
    }
   ],
   "source": [
    "o3.age(2024, 2000)"
   ]
  },
  {
   "cell_type": "code",
   "execution_count": 28,
   "id": "9a390d03",
   "metadata": {},
   "outputs": [
    {
     "name": "stdout",
     "output_type": "stream",
     "text": [
      "tell me your date of birth 2000\n"
     ]
    },
    {
     "data": {
      "text/plain": [
       "'2000'"
      ]
     },
     "execution_count": 28,
     "metadata": {},
     "output_type": "execute_result"
    }
   ],
   "source": [
    "o3.ask_dob()"
   ]
  },
  {
   "cell_type": "code",
   "execution_count": 29,
   "id": "8de30c87",
   "metadata": {},
   "outputs": [
    {
     "name": "stdout",
     "output_type": "stream",
     "text": [
      "tell me your name amit\n"
     ]
    },
    {
     "data": {
      "text/plain": [
       "'amit'"
      ]
     },
     "execution_count": 29,
     "metadata": {},
     "output_type": "execute_result"
    }
   ],
   "source": [
    "o3.ask_name()"
   ]
  },
  {
   "cell_type": "code",
   "execution_count": 30,
   "id": "4178f26c",
   "metadata": {},
   "outputs": [
    {
     "name": "stdout",
     "output_type": "stream",
     "text": [
      "take and mail id form a person and print it  amit@gm.com\n"
     ]
    }
   ],
   "source": [
    "o3.email_id_input(\"amit@gm.com\")"
   ]
  },
  {
   "cell_type": "code",
   "execution_count": null,
   "id": "419ccd40",
   "metadata": {},
   "outputs": [],
   "source": []
  }
 ],
 "metadata": {
  "kernelspec": {
   "display_name": "Python 3 (ipykernel)",
   "language": "python",
   "name": "python3"
  },
  "language_info": {
   "codemirror_mode": {
    "name": "ipython",
    "version": 3
   },
   "file_extension": ".py",
   "mimetype": "text/x-python",
   "name": "python",
   "nbconvert_exporter": "python",
   "pygments_lexer": "ipython3",
   "version": "3.11.5"
  }
 },
 "nbformat": 4,
 "nbformat_minor": 5
}
